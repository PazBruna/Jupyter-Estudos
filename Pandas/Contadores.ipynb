{
 "cells": [
  {
   "cell_type": "code",
   "execution_count": 1,
   "metadata": {},
   "outputs": [],
   "source": [
    "import pandas as pd"
   ]
  },
  {
   "cell_type": "code",
   "execution_count": 2,
   "metadata": {},
   "outputs": [],
   "source": [
    "s = pd.Series(list('asdaaaddekskaka'))"
   ]
  },
  {
   "cell_type": "code",
   "execution_count": 4,
   "metadata": {},
   "outputs": [
    {
     "data": {
      "text/plain": [
       "0     a\n",
       "1     s\n",
       "2     d\n",
       "3     a\n",
       "4     a\n",
       "5     a\n",
       "6     d\n",
       "7     d\n",
       "8     e\n",
       "9     k\n",
       "10    s\n",
       "11    k\n",
       "12    a\n",
       "13    k\n",
       "14    a\n",
       "dtype: object"
      ]
     },
     "execution_count": 4,
     "metadata": {},
     "output_type": "execute_result"
    }
   ],
   "source": [
    "s"
   ]
  },
  {
   "cell_type": "code",
   "execution_count": 5,
   "metadata": {},
   "outputs": [
    {
     "data": {
      "text/plain": [
       "array(['a', 's', 'd', 'e', 'k'], dtype=object)"
      ]
     },
     "execution_count": 5,
     "metadata": {},
     "output_type": "execute_result"
    }
   ],
   "source": [
    "s.unique()"
   ]
  },
  {
   "cell_type": "code",
   "execution_count": 7,
   "metadata": {},
   "outputs": [
    {
     "data": {
      "text/plain": [
       "a    6\n",
       "k    3\n",
       "d    3\n",
       "s    2\n",
       "e    1\n",
       "dtype: int64"
      ]
     },
     "execution_count": 7,
     "metadata": {},
     "output_type": "execute_result"
    }
   ],
   "source": [
    "s.value_counts()"
   ]
  },
  {
   "cell_type": "code",
   "execution_count": 8,
   "metadata": {},
   "outputs": [],
   "source": [
    "dados = pd.read_csv('dados/aluguel.csv', sep = ';')"
   ]
  },
  {
   "cell_type": "code",
   "execution_count": 9,
   "metadata": {},
   "outputs": [
    {
     "data": {
      "text/plain": [
       "array(['Apartamento', 'Casa', 'Casa de Condomínio', 'Casa de Vila',\n",
       "       'Quitinete'], dtype=object)"
      ]
     },
     "execution_count": 9,
     "metadata": {},
     "output_type": "execute_result"
    }
   ],
   "source": [
    "dados.Tipo.unique()"
   ]
  },
  {
   "cell_type": "code",
   "execution_count": 10,
   "metadata": {},
   "outputs": [
    {
     "data": {
      "text/plain": [
       "Apartamento           16923\n",
       "Casa de Condomínio      964\n",
       "Casa                    898\n",
       "Quitinete               813\n",
       "Casa de Vila            233\n",
       "Name: Tipo, dtype: int64"
      ]
     },
     "execution_count": 10,
     "metadata": {},
     "output_type": "execute_result"
    }
   ],
   "source": [
    "dados.Tipo.value_counts()"
   ]
  },
  {
   "cell_type": "code",
   "execution_count": 11,
   "metadata": {},
   "outputs": [
    {
     "data": {
      "text/plain": [
       "1500.0     741\n",
       "2500.0     727\n",
       "2000.0     663\n",
       "3000.0     661\n",
       "1800.0     639\n",
       "1200.0     615\n",
       "1000.0     577\n",
       "3500.0     560\n",
       "1300.0     544\n",
       "1600.0     528\n",
       "2200.0     497\n",
       "5000.0     484\n",
       "1100.0     481\n",
       "4500.0     456\n",
       "4000.0     455\n",
       "1700.0     453\n",
       "1400.0     403\n",
       "2300.0     385\n",
       "2800.0     381\n",
       "6000.0     345\n",
       "900.0      343\n",
       "1900.0     342\n",
       "8000.0     340\n",
       "7000.0     316\n",
       "800.0      307\n",
       "5500.0     303\n",
       "3200.0     266\n",
       "2700.0     250\n",
       "2100.0     250\n",
       "2600.0     245\n",
       "          ... \n",
       "23009.0      1\n",
       "19991.0      1\n",
       "9950.0       1\n",
       "2448.0       1\n",
       "9991.0       1\n",
       "9990.0       1\n",
       "6760.0       1\n",
       "6870.0       1\n",
       "4991.0       1\n",
       "910.0        1\n",
       "5079.0       1\n",
       "799.0        1\n",
       "13900.0      1\n",
       "3780.0       1\n",
       "699.0        1\n",
       "3597.0       1\n",
       "5495.0       1\n",
       "3580.0       1\n",
       "1420.0       1\n",
       "3515.0       1\n",
       "1508.0       1\n",
       "1960.0       1\n",
       "3799.0       1\n",
       "11500.0      1\n",
       "5491.0       1\n",
       "24009.0      1\n",
       "785.0        1\n",
       "5850.0       1\n",
       "2999.0       1\n",
       "1625.0       1\n",
       "Name: Valor, Length: 452, dtype: int64"
      ]
     },
     "execution_count": 11,
     "metadata": {},
     "output_type": "execute_result"
    }
   ],
   "source": [
    "dados.Valor.value_counts()"
   ]
  },
  {
   "cell_type": "code",
   "execution_count": null,
   "metadata": {},
   "outputs": [],
   "source": []
  }
 ],
 "metadata": {
  "kernelspec": {
   "display_name": "Python 3",
   "language": "python",
   "name": "python3"
  },
  "language_info": {
   "codemirror_mode": {
    "name": "ipython",
    "version": 3
   },
   "file_extension": ".py",
   "mimetype": "text/x-python",
   "name": "python",
   "nbconvert_exporter": "python",
   "pygments_lexer": "ipython3",
   "version": "3.6.8"
  }
 },
 "nbformat": 4,
 "nbformat_minor": 2
}
